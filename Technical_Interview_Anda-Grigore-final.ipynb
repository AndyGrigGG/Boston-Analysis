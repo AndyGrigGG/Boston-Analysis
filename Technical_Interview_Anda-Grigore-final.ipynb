{
 "cells": [
  {
   "cell_type": "markdown",
   "metadata": {},
   "source": [
    "# Project: Boston House Prices \n",
    "\n",
    "\n",
    "## Table of Contents:\n",
    "\n",
    "* [1 Description](#Description)\n",
    "* [2 Introduction](#Introduction)\n",
    "* [3 Data Exploration](#Data-Exploration)\n",
    "* [4 Processing the Data Set](#Processing-the-Data-Set)\n",
    "* [5 Exploratory Data Analysis](#Exploratory-Data-Analysis)\n",
    "* [6 Correlation Matrix](#Correlation-Matrix)\n",
    "* [7 Feature Selection](#Feature-Selection)\n",
    "* [8 Feature Importance](#Feature-Importance)\n",
    "* [9 Building the Model](#Building-the-Model)\n",
    "* [10 Evaluation of the Model](#Evaluation-of-the-Model)\n",
    "* [11 Model Performance](#Model-Performance)\n",
    "* [12 Prediction](#Prediction)\n",
    "* [13 Conclusion](#Conclusion)\n",
    "    "
   ]
  },
  {
   "cell_type": "markdown",
   "metadata": {},
   "source": [
    "---\n",
    "##  Description\n",
    "\n",
    "While working on this project, the main focus was to create a linear regression model which will predict the target variable, by following the statistical methods for the \"Boston House Prices\" data set. The starting point contains information about different aspects which can be taken in consideration while developing a model for house prices."
   ]
  },
  {
   "cell_type": "markdown",
   "metadata": {},
   "source": [
    "---\n",
    "## Introduction\n",
    "\n",
    "\n",
    "In this project can be reflected the process of creating the model which has been tested and trained. This has been done to predict the target value using a data set. The data set is related to the homes from the biggest city of Massachusetts which is also one of the oldest ones, Boston.\n",
    "\n",
    "The data can be found on [Scikit-Learn site](https://scikit-learn.org/stable/datasets/toy_dataset.html#boston-house-prices-dataset) for which the original source is [UCI ML housing dataset](https://archive.ics.uci.edu/ml/machine-learning-databases/housing/). This information was collected in 1978 and the data set has 506 entries which represent the aggregated information with the 12 attributes for homes from various suburbs from Boston. It is important to mention from the start that the considered data set is a little bit different as on the recommended source there are 14 features, but I will work with the version which has fewer attributes.\n",
    "\n",
    "The considered attributes are following:\n",
    " \n",
    "- CRIM - per capita crime rate by town\n",
    "- ZN - proportion of residential land zoned for lots over 25 000 sq.ft.\n",
    "- INDUS - proportion of non-residential business acred per town\n",
    "- CHAS - Charles River dummy variable (=1 if tract bounds river; =0 otherwise)\n",
    "- NOX - nitric oxides concentration (parts per 10 million)\n",
    "- RM - average number of room per dwelling\n",
    "- AGE - proportion of owner_occupied units built prior to 1940\n",
    "- GARDEN_SIZE - proportion of the land which is represented by garden (even though this variable is not presented in the data source, I will work also with this variable for which the explanation is a logical assumption) \n",
    "- DIS - weighted distances to five Boston employment centres\n",
    "- RAD - index of accesibility to radial highways\n",
    "- TAX - full-value property-tax rate per \\$ 10 000 \n",
    "- TARGET - target attribute which has to be predicted with the model (even though the name of this variable is TARGET, I can assume the fact that this attribute is the MEDV variable from the original data set which represents median value of owner-occupied homes in  \\$ 1 000's) \n",
    "\n",
    "Based on these attributes the model will be created, but there are some previous steps which have to be made."
   ]
  },
  {
   "cell_type": "markdown",
   "metadata": {},
   "source": [
    "Firstly, I will import the necessary libraries at this point, even though in the latest steps I will start accesing other libraries too."
   ]
  },
  {
   "cell_type": "code",
   "execution_count": 1,
   "metadata": {},
   "outputs": [],
   "source": [
    "# import the neccesary libraries\n",
    "import pandas as pd\n",
    "import numpy as np\n",
    "import seaborn as sns \n",
    "import matplotlib.pyplot as plt\n",
    "import warnings\n",
    "\n",
    "# using %matplotlib inlin in order to show in the notebook the plots\n",
    "%matplotlib inline \n",
    "\n",
    "# there will be some warning to show which will be ignored \n",
    "warnings.filterwarnings('ignore')"
   ]
  },
  {
   "cell_type": "markdown",
   "metadata": {},
   "source": [
    "After the libraries have been imported, the data set with those 12 attributes has to be loaded."
   ]
  },
  {
   "cell_type": "code",
   "execution_count": 2,
   "metadata": {},
   "outputs": [
    {
     "data": {
      "text/html": [
       "<div>\n",
       "<style scoped>\n",
       "    .dataframe tbody tr th:only-of-type {\n",
       "        vertical-align: middle;\n",
       "    }\n",
       "\n",
       "    .dataframe tbody tr th {\n",
       "        vertical-align: top;\n",
       "    }\n",
       "\n",
       "    .dataframe thead th {\n",
       "        text-align: right;\n",
       "    }\n",
       "</style>\n",
       "<table border=\"1\" class=\"dataframe\">\n",
       "  <thead>\n",
       "    <tr style=\"text-align: right;\">\n",
       "      <th></th>\n",
       "      <th>CRIM</th>\n",
       "      <th>ZN</th>\n",
       "      <th>INDUS</th>\n",
       "      <th>CHAS</th>\n",
       "      <th>NOX</th>\n",
       "      <th>RM</th>\n",
       "      <th>AGE</th>\n",
       "      <th>GARDEN_SIZE</th>\n",
       "      <th>DIS</th>\n",
       "      <th>RAD</th>\n",
       "      <th>TAX</th>\n",
       "      <th>TARGET</th>\n",
       "    </tr>\n",
       "  </thead>\n",
       "  <tbody>\n",
       "    <tr>\n",
       "      <th>0</th>\n",
       "      <td>0.00632</td>\n",
       "      <td>18.0</td>\n",
       "      <td>2.31</td>\n",
       "      <td>0</td>\n",
       "      <td>0.538</td>\n",
       "      <td>6.575</td>\n",
       "      <td>65.2</td>\n",
       "      <td>17.40</td>\n",
       "      <td>1.8</td>\n",
       "      <td>1</td>\n",
       "      <td>296.0</td>\n",
       "      <td>24.0</td>\n",
       "    </tr>\n",
       "    <tr>\n",
       "      <th>1</th>\n",
       "      <td>0.02731</td>\n",
       "      <td>0.0</td>\n",
       "      <td>7.07</td>\n",
       "      <td>0</td>\n",
       "      <td>0.469</td>\n",
       "      <td>6.421</td>\n",
       "      <td>78.9</td>\n",
       "      <td>15.96</td>\n",
       "      <td>1.8</td>\n",
       "      <td>2</td>\n",
       "      <td>242.0</td>\n",
       "      <td>21.6</td>\n",
       "    </tr>\n",
       "    <tr>\n",
       "      <th>2</th>\n",
       "      <td>0.02729</td>\n",
       "      <td>0.0</td>\n",
       "      <td>7.07</td>\n",
       "      <td>0</td>\n",
       "      <td>0.469</td>\n",
       "      <td>7.185</td>\n",
       "      <td>61.1</td>\n",
       "      <td>23.82</td>\n",
       "      <td>1.8</td>\n",
       "      <td>2</td>\n",
       "      <td>242.0</td>\n",
       "      <td>34.7</td>\n",
       "    </tr>\n",
       "    <tr>\n",
       "      <th>3</th>\n",
       "      <td>0.03237</td>\n",
       "      <td>0.0</td>\n",
       "      <td>2.18</td>\n",
       "      <td>0</td>\n",
       "      <td>0.458</td>\n",
       "      <td>6.998</td>\n",
       "      <td>45.8</td>\n",
       "      <td>23.04</td>\n",
       "      <td>1.8</td>\n",
       "      <td>3</td>\n",
       "      <td>222.0</td>\n",
       "      <td>33.4</td>\n",
       "    </tr>\n",
       "    <tr>\n",
       "      <th>4</th>\n",
       "      <td>0.06905</td>\n",
       "      <td>0.0</td>\n",
       "      <td>2.18</td>\n",
       "      <td>0</td>\n",
       "      <td>0.458</td>\n",
       "      <td>7.147</td>\n",
       "      <td>54.2</td>\n",
       "      <td>24.72</td>\n",
       "      <td>1.8</td>\n",
       "      <td>3</td>\n",
       "      <td>222.0</td>\n",
       "      <td>36.2</td>\n",
       "    </tr>\n",
       "  </tbody>\n",
       "</table>\n",
       "</div>"
      ],
      "text/plain": [
       "      CRIM    ZN  INDUS  CHAS    NOX     RM   AGE  GARDEN_SIZE  DIS  RAD  \\\n",
       "0  0.00632  18.0   2.31     0  0.538  6.575  65.2        17.40  1.8    1   \n",
       "1  0.02731   0.0   7.07     0  0.469  6.421  78.9        15.96  1.8    2   \n",
       "2  0.02729   0.0   7.07     0  0.469  7.185  61.1        23.82  1.8    2   \n",
       "3  0.03237   0.0   2.18     0  0.458  6.998  45.8        23.04  1.8    3   \n",
       "4  0.06905   0.0   2.18     0  0.458  7.147  54.2        24.72  1.8    3   \n",
       "\n",
       "     TAX  TARGET  \n",
       "0  296.0    24.0  \n",
       "1  242.0    21.6  \n",
       "2  242.0    34.7  \n",
       "3  222.0    33.4  \n",
       "4  222.0    36.2  "
      ]
     },
     "execution_count": 2,
     "metadata": {},
     "output_type": "execute_result"
    }
   ],
   "source": [
    "# load Boston data set\n",
    "boston = pd.read_csv('Technical_Interview_Dataset_2021.csv')\n",
    "\n",
    "# get the first 5 rows from the data set\n",
    "boston.head()"
   ]
  },
  {
   "cell_type": "markdown",
   "metadata": {},
   "source": [
    "As a starting point in the model which will be created, I will focus on predicting the value of *TARGET* which will be the response variable, while the other attributes will be the explanatory variables."
   ]
  },
  {
   "cell_type": "code",
   "execution_count": 3,
   "metadata": {},
   "outputs": [
    {
     "name": "stdout",
     "output_type": "stream",
     "text": [
      "0      24.0\n",
      "1      21.6\n",
      "2      34.7\n",
      "3      33.4\n",
      "4      36.2\n",
      "       ... \n",
      "501    22.4\n",
      "502    20.6\n",
      "503    23.9\n",
      "504    22.0\n",
      "505    11.9\n",
      "Name: TARGET, Length: 506, dtype: float64\n"
     ]
    }
   ],
   "source": [
    "dep_var = boston['TARGET']\n",
    "print(dep_var)"
   ]
  },
  {
   "cell_type": "code",
   "execution_count": 4,
   "metadata": {},
   "outputs": [
    {
     "name": "stdout",
     "output_type": "stream",
     "text": [
      "        CRIM    ZN  INDUS  CHAS    NOX     RM   AGE  GARDEN_SIZE  DIS  RAD  \\\n",
      "0    0.00632  18.0   2.31     0  0.538  6.575  65.2        17.40  1.8    1   \n",
      "1    0.02731   0.0   7.07     0  0.469  6.421  78.9        15.96  1.8    2   \n",
      "2    0.02729   0.0   7.07     0  0.469  7.185  61.1        23.82  1.8    2   \n",
      "3    0.03237   0.0   2.18     0  0.458  6.998  45.8        23.04  1.8    3   \n",
      "4    0.06905   0.0   2.18     0  0.458  7.147  54.2        24.72  1.8    3   \n",
      "..       ...   ...    ...   ...    ...    ...   ...          ...  ...  ...   \n",
      "501  0.06263   0.0  11.93     0  0.573  6.593  69.1        16.44  1.8    1   \n",
      "502  0.04527   0.0  11.93     0  0.573  6.120  76.7        15.36  1.8    1   \n",
      "503  0.06076   0.0  11.93     0  0.573  6.976  91.0        17.34  1.8    1   \n",
      "504  0.10959   0.0  11.93     0  0.573  6.794  89.3        16.20  1.8    1   \n",
      "505  0.04741   0.0  11.93     0  0.573  6.030  80.8        10.14  1.8    1   \n",
      "\n",
      "       TAX  \n",
      "0    296.0  \n",
      "1    242.0  \n",
      "2    242.0  \n",
      "3    222.0  \n",
      "4    222.0  \n",
      "..     ...  \n",
      "501  273.0  \n",
      "502  273.0  \n",
      "503  273.0  \n",
      "504  273.0  \n",
      "505  273.0  \n",
      "\n",
      "[506 rows x 11 columns]\n"
     ]
    }
   ],
   "source": [
    "indep_var = boston.drop('TARGET', axis = 1)\n",
    "print(indep_var)"
   ]
  },
  {
   "cell_type": "code",
   "execution_count": 5,
   "metadata": {},
   "outputs": [
    {
     "name": "stdout",
     "output_type": "stream",
     "text": [
      "The data set has 506 rows with 12 attributes.\n"
     ]
    }
   ],
   "source": [
    "print('The data set has {} rows with {} attributes.'.format(*boston.shape))"
   ]
  },
  {
   "cell_type": "markdown",
   "metadata": {},
   "source": [
    "Otherwise, before the actual creation of the model, the information privided by the data set has to be statistical analysed and explored. "
   ]
  },
  {
   "cell_type": "markdown",
   "metadata": {},
   "source": [
    "---\n",
    "## Data Exploration\n",
    "\n",
    "In the further steps, the data set will be explored to check the data because some mistakes or missing values can influence the final results and also the predictions made by the model.\n",
    "\n",
    "Firstly, I will look up at a basic analysis to check for some misleading information."
   ]
  },
  {
   "cell_type": "code",
   "execution_count": 6,
   "metadata": {},
   "outputs": [
    {
     "data": {
      "text/html": [
       "<div>\n",
       "<style scoped>\n",
       "    .dataframe tbody tr th:only-of-type {\n",
       "        vertical-align: middle;\n",
       "    }\n",
       "\n",
       "    .dataframe tbody tr th {\n",
       "        vertical-align: top;\n",
       "    }\n",
       "\n",
       "    .dataframe thead th {\n",
       "        text-align: right;\n",
       "    }\n",
       "</style>\n",
       "<table border=\"1\" class=\"dataframe\">\n",
       "  <thead>\n",
       "    <tr style=\"text-align: right;\">\n",
       "      <th></th>\n",
       "      <th>CRIM</th>\n",
       "      <th>ZN</th>\n",
       "      <th>INDUS</th>\n",
       "      <th>CHAS</th>\n",
       "      <th>NOX</th>\n",
       "      <th>RM</th>\n",
       "      <th>AGE</th>\n",
       "      <th>GARDEN_SIZE</th>\n",
       "      <th>DIS</th>\n",
       "      <th>RAD</th>\n",
       "      <th>TAX</th>\n",
       "      <th>TARGET</th>\n",
       "    </tr>\n",
       "  </thead>\n",
       "  <tbody>\n",
       "    <tr>\n",
       "      <th>count</th>\n",
       "      <td>506.000000</td>\n",
       "      <td>506.000000</td>\n",
       "      <td>506.000000</td>\n",
       "      <td>506.000000</td>\n",
       "      <td>491.000000</td>\n",
       "      <td>506.000000</td>\n",
       "      <td>506.000000</td>\n",
       "      <td>506.000000</td>\n",
       "      <td>5.060000e+02</td>\n",
       "      <td>506.000000</td>\n",
       "      <td>487.000000</td>\n",
       "      <td>506.000000</td>\n",
       "    </tr>\n",
       "    <tr>\n",
       "      <th>mean</th>\n",
       "      <td>3.563382</td>\n",
       "      <td>11.363636</td>\n",
       "      <td>11.136779</td>\n",
       "      <td>0.069170</td>\n",
       "      <td>0.554354</td>\n",
       "      <td>6.284634</td>\n",
       "      <td>68.574901</td>\n",
       "      <td>16.519684</td>\n",
       "      <td>1.800000e+00</td>\n",
       "      <td>9.549407</td>\n",
       "      <td>411.400411</td>\n",
       "      <td>22.532806</td>\n",
       "    </tr>\n",
       "    <tr>\n",
       "      <th>std</th>\n",
       "      <td>8.631769</td>\n",
       "      <td>23.322453</td>\n",
       "      <td>6.860353</td>\n",
       "      <td>0.253994</td>\n",
       "      <td>0.115381</td>\n",
       "      <td>0.702617</td>\n",
       "      <td>28.148861</td>\n",
       "      <td>5.518262</td>\n",
       "      <td>1.533624e-14</td>\n",
       "      <td>8.707259</td>\n",
       "      <td>169.716375</td>\n",
       "      <td>9.197104</td>\n",
       "    </tr>\n",
       "    <tr>\n",
       "      <th>min</th>\n",
       "      <td>-8.000000</td>\n",
       "      <td>0.000000</td>\n",
       "      <td>0.460000</td>\n",
       "      <td>0.000000</td>\n",
       "      <td>0.385000</td>\n",
       "      <td>3.561000</td>\n",
       "      <td>2.900000</td>\n",
       "      <td>6.000000</td>\n",
       "      <td>1.800000e+00</td>\n",
       "      <td>1.000000</td>\n",
       "      <td>187.000000</td>\n",
       "      <td>5.000000</td>\n",
       "    </tr>\n",
       "    <tr>\n",
       "      <th>25%</th>\n",
       "      <td>0.079870</td>\n",
       "      <td>0.000000</td>\n",
       "      <td>5.190000</td>\n",
       "      <td>0.000000</td>\n",
       "      <td>0.449000</td>\n",
       "      <td>5.885500</td>\n",
       "      <td>45.025000</td>\n",
       "      <td>13.215000</td>\n",
       "      <td>1.800000e+00</td>\n",
       "      <td>4.000000</td>\n",
       "      <td>280.500000</td>\n",
       "      <td>17.025000</td>\n",
       "    </tr>\n",
       "    <tr>\n",
       "      <th>50%</th>\n",
       "      <td>0.252775</td>\n",
       "      <td>0.000000</td>\n",
       "      <td>9.690000</td>\n",
       "      <td>0.000000</td>\n",
       "      <td>0.538000</td>\n",
       "      <td>6.208500</td>\n",
       "      <td>77.500000</td>\n",
       "      <td>15.720000</td>\n",
       "      <td>1.800000e+00</td>\n",
       "      <td>5.000000</td>\n",
       "      <td>330.000000</td>\n",
       "      <td>21.200000</td>\n",
       "    </tr>\n",
       "    <tr>\n",
       "      <th>75%</th>\n",
       "      <td>3.647422</td>\n",
       "      <td>12.500000</td>\n",
       "      <td>18.100000</td>\n",
       "      <td>0.000000</td>\n",
       "      <td>0.624000</td>\n",
       "      <td>6.623500</td>\n",
       "      <td>94.075000</td>\n",
       "      <td>18.000000</td>\n",
       "      <td>1.800000e+00</td>\n",
       "      <td>24.000000</td>\n",
       "      <td>666.000000</td>\n",
       "      <td>25.000000</td>\n",
       "    </tr>\n",
       "    <tr>\n",
       "      <th>max</th>\n",
       "      <td>88.976200</td>\n",
       "      <td>100.000000</td>\n",
       "      <td>27.740000</td>\n",
       "      <td>1.000000</td>\n",
       "      <td>0.871000</td>\n",
       "      <td>8.780000</td>\n",
       "      <td>100.000000</td>\n",
       "      <td>33.000000</td>\n",
       "      <td>1.800000e+00</td>\n",
       "      <td>24.000000</td>\n",
       "      <td>711.000000</td>\n",
       "      <td>50.000000</td>\n",
       "    </tr>\n",
       "  </tbody>\n",
       "</table>\n",
       "</div>"
      ],
      "text/plain": [
       "             CRIM          ZN       INDUS        CHAS         NOX          RM  \\\n",
       "count  506.000000  506.000000  506.000000  506.000000  491.000000  506.000000   \n",
       "mean     3.563382   11.363636   11.136779    0.069170    0.554354    6.284634   \n",
       "std      8.631769   23.322453    6.860353    0.253994    0.115381    0.702617   \n",
       "min     -8.000000    0.000000    0.460000    0.000000    0.385000    3.561000   \n",
       "25%      0.079870    0.000000    5.190000    0.000000    0.449000    5.885500   \n",
       "50%      0.252775    0.000000    9.690000    0.000000    0.538000    6.208500   \n",
       "75%      3.647422   12.500000   18.100000    0.000000    0.624000    6.623500   \n",
       "max     88.976200  100.000000   27.740000    1.000000    0.871000    8.780000   \n",
       "\n",
       "              AGE  GARDEN_SIZE           DIS         RAD         TAX  \\\n",
       "count  506.000000   506.000000  5.060000e+02  506.000000  487.000000   \n",
       "mean    68.574901    16.519684  1.800000e+00    9.549407  411.400411   \n",
       "std     28.148861     5.518262  1.533624e-14    8.707259  169.716375   \n",
       "min      2.900000     6.000000  1.800000e+00    1.000000  187.000000   \n",
       "25%     45.025000    13.215000  1.800000e+00    4.000000  280.500000   \n",
       "50%     77.500000    15.720000  1.800000e+00    5.000000  330.000000   \n",
       "75%     94.075000    18.000000  1.800000e+00   24.000000  666.000000   \n",
       "max    100.000000    33.000000  1.800000e+00   24.000000  711.000000   \n",
       "\n",
       "           TARGET  \n",
       "count  506.000000  \n",
       "mean    22.532806  \n",
       "std      9.197104  \n",
       "min      5.000000  \n",
       "25%     17.025000  \n",
       "50%     21.200000  \n",
       "75%     25.000000  \n",
       "max     50.000000  "
      ]
     },
     "execution_count": 6,
     "metadata": {},
     "output_type": "execute_result"
    }
   ],
   "source": [
    "# get the summary of statistical analysis\n",
    "boston.describe()"
   ]
  },
  {
   "cell_type": "markdown",
   "metadata": {},
   "source": [
    "By looking over the results from the statistical analysis, it is necessary to make the following observations:\n",
    "\n",
    "- CRIM - for the *criminal rate* there is a minimum value of -8 which can not be possible because criminal rate is calculated as the number of crimes for every 100 000 individuals so it is not logical at all to have negative figures.\n",
    "- DIS -  for the *distance to five Boston employment centres* there is the same value for each row (1.8), which I doubt is correct because here the subject is the suburbs from Boston so each suburb should have a different distance.\n",
    "\n",
    "Also, I noticed that for *NAX* and *TAX* attributes there are fewer data by comparing to the rest of attributes, which is confirmed below."
   ]
  },
  {
   "cell_type": "code",
   "execution_count": 7,
   "metadata": {},
   "outputs": [
    {
     "name": "stdout",
     "output_type": "stream",
     "text": [
      "<class 'pandas.core.frame.DataFrame'>\n",
      "RangeIndex: 506 entries, 0 to 505\n",
      "Data columns (total 12 columns):\n",
      " #   Column       Non-Null Count  Dtype  \n",
      "---  ------       --------------  -----  \n",
      " 0   CRIM         506 non-null    float64\n",
      " 1   ZN           506 non-null    float64\n",
      " 2   INDUS        506 non-null    float64\n",
      " 3   CHAS         506 non-null    int64  \n",
      " 4   NOX          491 non-null    float64\n",
      " 5   RM           506 non-null    float64\n",
      " 6   AGE          506 non-null    float64\n",
      " 7   GARDEN_SIZE  506 non-null    float64\n",
      " 8   DIS          506 non-null    float64\n",
      " 9   RAD          506 non-null    int64  \n",
      " 10  TAX          487 non-null    float64\n",
      " 11  TARGET       506 non-null    float64\n",
      "dtypes: float64(10), int64(2)\n",
      "memory usage: 47.6 KB\n"
     ]
    }
   ],
   "source": [
    "# get info about each column\n",
    "boston.info()"
   ]
  },
  {
   "cell_type": "markdown",
   "metadata": {},
   "source": [
    "As it can be observed, attributes *CHAS* and *RAD* are  integers (both are indexes) and the rest of variables are floats. Also, for attributes *CHAS* and *TAX* there are some missing values due to empty cells which is revealed below as well."
   ]
  },
  {
   "cell_type": "code",
   "execution_count": 8,
   "metadata": {},
   "outputs": [
    {
     "data": {
      "text/plain": [
       "CRIM           False\n",
       "ZN             False\n",
       "INDUS          False\n",
       "CHAS           False\n",
       "NOX             True\n",
       "RM             False\n",
       "AGE            False\n",
       "GARDEN_SIZE    False\n",
       "DIS            False\n",
       "RAD            False\n",
       "TAX             True\n",
       "TARGET         False\n",
       "dtype: bool"
      ]
     },
     "execution_count": 8,
     "metadata": {},
     "output_type": "execute_result"
    }
   ],
   "source": [
    "# check for columns with empty values\n",
    "boston.isnull().any()"
   ]
  },
  {
   "cell_type": "markdown",
   "metadata": {},
   "source": [
    "Therefore, there are two attributes which have some empty values (15 missing values for *NOX* attribute and 19 values for *TAX* attribute). \n",
    "\n",
    "In the next section, I will handle the missing or questionable values for *CRIM*, *NOX*, *RAD*, *TAX* attributes.\n"
   ]
  },
  {
   "cell_type": "markdown",
   "metadata": {},
   "source": [
    "---\n",
    "## Processing the Data Set\n",
    "\n",
    "Because I observed the fact there are some issues with the data set in the previous section, I will handle each identified problem and make changes accordingly where these can be done. Regarding the missing values, the options are to remove the rows or to use an imputation technique (based on mean, mode, median). On the other hand, for the attributes where the data is questionable, I will have to investigate and find a solution. Even though removing the columns or rows with the issues is the easier way to solve it, I will try to find other solutions."
   ]
  },
  {
   "cell_type": "markdown",
   "metadata": {},
   "source": [
    "### Criminal Rate \n",
    "\n",
    "Regarding attribute *CRIM* which represents the *criminal rate* I observed there is a negative minimum value from the descriptive analysis, which seems strange as there is no way that the criminal rate will get negative values. In order to better understand the situation, I have to identify the cases for which this situation is encountered."
   ]
  },
  {
   "cell_type": "code",
   "execution_count": 9,
   "metadata": {},
   "outputs": [
    {
     "name": "stdout",
     "output_type": "stream",
     "text": [
      "     CRIM    ZN  INDUS  CHAS    NOX     RM   AGE  GARDEN_SIZE  DIS  RAD  \\\n",
      "84   -1.0   0.0   4.49     0  0.449  6.389  48.0        17.34  1.8    3   \n",
      "355  -8.0  80.0   1.91     0  0.413  5.936  19.5        15.36  1.8    4   \n",
      "484  -6.0   0.0  18.10     0  0.583  5.871  41.9        15.36  1.8   24   \n",
      "487  -3.0   0.0  18.10     0  0.583  5.905  53.2        15.36  1.8   24   \n",
      "\n",
      "       TAX  TARGET  \n",
      "84   247.0    23.9  \n",
      "355  334.0    20.6  \n",
      "484  666.0    20.6  \n",
      "487  666.0    20.6  \n"
     ]
    }
   ],
   "source": [
    "#finding the rows for which the condition is met\n",
    "crim0_boston = boston.loc[boston['CRIM'] < 0] \n",
    "print(crim0_boston)"
   ]
  },
  {
   "cell_type": "markdown",
   "metadata": {},
   "source": [
    "There are 4 rows for which criminal rate is negative, which are quite a few by comparing to the overall number of rows 506 so deleting these will not influence a lot the results. Because there is no way to obtain these figures by calculating them (the other attributes do not offer the necessary information, e.g number of crimes and population), these 4 rows will be eliminated completely."
   ]
  },
  {
   "cell_type": "code",
   "execution_count": 10,
   "metadata": {},
   "outputs": [
    {
     "name": "stdout",
     "output_type": "stream",
     "text": [
      "        CRIM    ZN  INDUS  CHAS    NOX     RM   AGE  GARDEN_SIZE  DIS  RAD  \\\n",
      "0    0.00632  18.0   2.31     0  0.538  6.575  65.2        17.40  1.8    1   \n",
      "1    0.02731   0.0   7.07     0  0.469  6.421  78.9        15.96  1.8    2   \n",
      "2    0.02729   0.0   7.07     0  0.469  7.185  61.1        23.82  1.8    2   \n",
      "3    0.03237   0.0   2.18     0  0.458  6.998  45.8        23.04  1.8    3   \n",
      "4    0.06905   0.0   2.18     0  0.458  7.147  54.2        24.72  1.8    3   \n",
      "..       ...   ...    ...   ...    ...    ...   ...          ...  ...  ...   \n",
      "501  0.06263   0.0  11.93     0  0.573  6.593  69.1        16.44  1.8    1   \n",
      "502  0.04527   0.0  11.93     0  0.573  6.120  76.7        15.36  1.8    1   \n",
      "503  0.06076   0.0  11.93     0  0.573  6.976  91.0        17.34  1.8    1   \n",
      "504  0.10959   0.0  11.93     0  0.573  6.794  89.3        16.20  1.8    1   \n",
      "505  0.04741   0.0  11.93     0  0.573  6.030  80.8        10.14  1.8    1   \n",
      "\n",
      "       TAX  TARGET  \n",
      "0    296.0    24.0  \n",
      "1    242.0    21.6  \n",
      "2    242.0    34.7  \n",
      "3    222.0    33.4  \n",
      "4    222.0    36.2  \n",
      "..     ...     ...  \n",
      "501  273.0    22.4  \n",
      "502  273.0    20.6  \n",
      "503  273.0    23.9  \n",
      "504  273.0    22.0  \n",
      "505  273.0    11.9  \n",
      "\n",
      "[506 rows x 12 columns]\n"
     ]
    }
   ],
   "source": [
    "#create a duplicate of the original data set\n",
    "boston_crim = boston \n",
    "print(boston_crim)\n",
    "\n",
    "#delete the rows with negative CRIM\n",
    "for row in boston_crim.index:\n",
    "    if boston_crim.loc[row,'CRIM'] < 0:\n",
    "        boston_crim.drop(row, inplace = True)"
   ]
  },
  {
   "cell_type": "markdown",
   "metadata": {},
   "source": [
    "As it can be observed, the data set now has fewer rows (502) from the initial state so the removal has been successfully done. As a verification, I can get the statistical table for the new data set. "
   ]
  },
  {
   "cell_type": "code",
   "execution_count": 11,
   "metadata": {},
   "outputs": [
    {
     "data": {
      "text/html": [
       "<div>\n",
       "<style scoped>\n",
       "    .dataframe tbody tr th:only-of-type {\n",
       "        vertical-align: middle;\n",
       "    }\n",
       "\n",
       "    .dataframe tbody tr th {\n",
       "        vertical-align: top;\n",
       "    }\n",
       "\n",
       "    .dataframe thead th {\n",
       "        text-align: right;\n",
       "    }\n",
       "</style>\n",
       "<table border=\"1\" class=\"dataframe\">\n",
       "  <thead>\n",
       "    <tr style=\"text-align: right;\">\n",
       "      <th></th>\n",
       "      <th>CRIM</th>\n",
       "      <th>ZN</th>\n",
       "      <th>INDUS</th>\n",
       "      <th>CHAS</th>\n",
       "      <th>NOX</th>\n",
       "      <th>RM</th>\n",
       "      <th>AGE</th>\n",
       "      <th>GARDEN_SIZE</th>\n",
       "      <th>DIS</th>\n",
       "      <th>RAD</th>\n",
       "      <th>TAX</th>\n",
       "      <th>TARGET</th>\n",
       "    </tr>\n",
       "  </thead>\n",
       "  <tbody>\n",
       "    <tr>\n",
       "      <th>count</th>\n",
       "      <td>502.000000</td>\n",
       "      <td>502.000000</td>\n",
       "      <td>502.000000</td>\n",
       "      <td>502.000000</td>\n",
       "      <td>487.000000</td>\n",
       "      <td>502.000000</td>\n",
       "      <td>502.000000</td>\n",
       "      <td>502.000000</td>\n",
       "      <td>5.020000e+02</td>\n",
       "      <td>502.000000</td>\n",
       "      <td>483.000000</td>\n",
       "      <td>502.000000</td>\n",
       "    </tr>\n",
       "    <tr>\n",
       "      <th>mean</th>\n",
       "      <td>3.627632</td>\n",
       "      <td>11.294821</td>\n",
       "      <td>11.140657</td>\n",
       "      <td>0.069721</td>\n",
       "      <td>0.554743</td>\n",
       "      <td>6.286701</td>\n",
       "      <td>68.797410</td>\n",
       "      <td>16.524980</td>\n",
       "      <td>1.800000e+00</td>\n",
       "      <td>9.515936</td>\n",
       "      <td>410.846791</td>\n",
       "      <td>22.541633</td>\n",
       "    </tr>\n",
       "    <tr>\n",
       "      <th>std</th>\n",
       "      <td>8.632565</td>\n",
       "      <td>23.196951</td>\n",
       "      <td>6.854817</td>\n",
       "      <td>0.254930</td>\n",
       "      <td>0.115564</td>\n",
       "      <td>0.704780</td>\n",
       "      <td>28.126338</td>\n",
       "      <td>5.539397</td>\n",
       "      <td>1.511409e-14</td>\n",
       "      <td>8.685613</td>\n",
       "      <td>169.425222</td>\n",
       "      <td>9.232328</td>\n",
       "    </tr>\n",
       "    <tr>\n",
       "      <th>min</th>\n",
       "      <td>0.006320</td>\n",
       "      <td>0.000000</td>\n",
       "      <td>0.460000</td>\n",
       "      <td>0.000000</td>\n",
       "      <td>0.385000</td>\n",
       "      <td>3.561000</td>\n",
       "      <td>2.900000</td>\n",
       "      <td>6.000000</td>\n",
       "      <td>1.800000e+00</td>\n",
       "      <td>1.000000</td>\n",
       "      <td>187.000000</td>\n",
       "      <td>5.000000</td>\n",
       "    </tr>\n",
       "    <tr>\n",
       "      <th>25%</th>\n",
       "      <td>0.082045</td>\n",
       "      <td>0.000000</td>\n",
       "      <td>5.190000</td>\n",
       "      <td>0.000000</td>\n",
       "      <td>0.449000</td>\n",
       "      <td>5.885500</td>\n",
       "      <td>45.175000</td>\n",
       "      <td>13.110000</td>\n",
       "      <td>1.800000e+00</td>\n",
       "      <td>4.000000</td>\n",
       "      <td>280.500000</td>\n",
       "      <td>16.850000</td>\n",
       "    </tr>\n",
       "    <tr>\n",
       "      <th>50%</th>\n",
       "      <td>0.256510</td>\n",
       "      <td>0.000000</td>\n",
       "      <td>9.690000</td>\n",
       "      <td>0.000000</td>\n",
       "      <td>0.538000</td>\n",
       "      <td>6.209000</td>\n",
       "      <td>77.750000</td>\n",
       "      <td>15.720000</td>\n",
       "      <td>1.800000e+00</td>\n",
       "      <td>5.000000</td>\n",
       "      <td>330.000000</td>\n",
       "      <td>21.200000</td>\n",
       "    </tr>\n",
       "    <tr>\n",
       "      <th>75%</th>\n",
       "      <td>3.677082</td>\n",
       "      <td>12.500000</td>\n",
       "      <td>18.100000</td>\n",
       "      <td>0.000000</td>\n",
       "      <td>0.624000</td>\n",
       "      <td>6.628000</td>\n",
       "      <td>94.100000</td>\n",
       "      <td>18.000000</td>\n",
       "      <td>1.800000e+00</td>\n",
       "      <td>24.000000</td>\n",
       "      <td>666.000000</td>\n",
       "      <td>25.000000</td>\n",
       "    </tr>\n",
       "    <tr>\n",
       "      <th>max</th>\n",
       "      <td>88.976200</td>\n",
       "      <td>100.000000</td>\n",
       "      <td>27.740000</td>\n",
       "      <td>1.000000</td>\n",
       "      <td>0.871000</td>\n",
       "      <td>8.780000</td>\n",
       "      <td>100.000000</td>\n",
       "      <td>33.000000</td>\n",
       "      <td>1.800000e+00</td>\n",
       "      <td>24.000000</td>\n",
       "      <td>711.000000</td>\n",
       "      <td>50.000000</td>\n",
       "    </tr>\n",
       "  </tbody>\n",
       "</table>\n",
       "</div>"
      ],
      "text/plain": [
       "             CRIM          ZN       INDUS        CHAS         NOX          RM  \\\n",
       "count  502.000000  502.000000  502.000000  502.000000  487.000000  502.000000   \n",
       "mean     3.627632   11.294821   11.140657    0.069721    0.554743    6.286701   \n",
       "std      8.632565   23.196951    6.854817    0.254930    0.115564    0.704780   \n",
       "min      0.006320    0.000000    0.460000    0.000000    0.385000    3.561000   \n",
       "25%      0.082045    0.000000    5.190000    0.000000    0.449000    5.885500   \n",
       "50%      0.256510    0.000000    9.690000    0.000000    0.538000    6.209000   \n",
       "75%      3.677082   12.500000   18.100000    0.000000    0.624000    6.628000   \n",
       "max     88.976200  100.000000   27.740000    1.000000    0.871000    8.780000   \n",
       "\n",
       "              AGE  GARDEN_SIZE           DIS         RAD         TAX  \\\n",
       "count  502.000000   502.000000  5.020000e+02  502.000000  483.000000   \n",
       "mean    68.797410    16.524980  1.800000e+00    9.515936  410.846791   \n",
       "std     28.126338     5.539397  1.511409e-14    8.685613  169.425222   \n",
       "min      2.900000     6.000000  1.800000e+00    1.000000  187.000000   \n",
       "25%     45.175000    13.110000  1.800000e+00    4.000000  280.500000   \n",
       "50%     77.750000    15.720000  1.800000e+00    5.000000  330.000000   \n",
       "75%     94.100000    18.000000  1.800000e+00   24.000000  666.000000   \n",
       "max    100.000000    33.000000  1.800000e+00   24.000000  711.000000   \n",
       "\n",
       "           TARGET  \n",
       "count  502.000000  \n",
       "mean    22.541633  \n",
       "std      9.232328  \n",
       "min      5.000000  \n",
       "25%     16.850000  \n",
       "50%     21.200000  \n",
       "75%     25.000000  \n",
       "max     50.000000  "
      ]
     },
     "execution_count": 11,
     "metadata": {},
     "output_type": "execute_result"
    }
   ],
   "source": [
    "# statistical analysis\n",
    "boston_crim.describe()"
   ]
  },
  {
   "cell_type": "markdown",
   "metadata": {},
   "source": [
    "By looking at the statistics of the new data set, for *CRIM* attribute there is no negative minimum, which means that the correction has been made and those 4 rows has been eliminated and now the data set has 502 rows."
   ]
  },
  {
   "cell_type": "code",
   "execution_count": 12,
   "metadata": {},
   "outputs": [
    {
     "name": "stdout",
     "output_type": "stream",
     "text": [
      "The data set has 502 rows with 12 attributes.\n"
     ]
    }
   ],
   "source": [
    "print('The data set has {} rows with {} attributes.'.format(*boston_crim.shape))"
   ]
  },
  {
   "cell_type": "markdown",
   "metadata": {},
   "source": [
    "As a mention the new data set will be taken in consideration for further steps, so the next changes will be made on *boston_crim*."
   ]
  },
  {
   "cell_type": "markdown",
   "metadata": {},
   "source": [
    "### Nitric Oxides Concentration\n",
    "\n",
    "For the attribute *NOX* which represents the *nitric oxides concentration* it was observed in the previous section that there are 15 missing values. Even though that one of the solution is to remove the rows for which attribute does not have values, I will chose to use an imputation technique."
   ]
  },
  {
   "cell_type": "code",
   "execution_count": 13,
   "metadata": {},
   "outputs": [
    {
     "data": {
      "image/png": "[encoded data removed]",
      "text/plain": [
       "<Figure size 576x144 with 1 Axes>"
      ]
     },
     "metadata": {
      "needs_background": "light"
     },
     "output_type": "display_data"
    }
   ],
   "source": [
    "# create the boxplot\n",
    "fig, ax = plt.subplots(figsize=(8,2))\n",
    "sns.boxplot(boston_crim.NOX, orient = 'h',color = '#76CEFE');"
   ]
  },
  {
   "cell_type": "code",
   "execution_count": 14,
   "metadata": {},
   "outputs": [
    {
     "data": {
      "image/png": "[encoded data removed]",
      "text/plain": [
       "<Figure size 720x432 with 1 Axes>"
      ]
     },
     "metadata": {
      "needs_background": "light"
     },
     "output_type": "display_data"
    }
   ],
   "source": [
    "# create the distribution plot\n",
    "fig, ax = plt.subplots(figsize=(10,6))\n",
    "sns.distplot(boston_crim.NOX, color = '#179EDA', vertical = False, rug = 'True', bins = 12);"
   ]
  },
  {
   "cell_type": "markdown",
   "metadata": {},
   "source": [
    "By looking at the boxplot and as well at the distribution plot, it can be observed that the data is positive skewed, which is why the mean option in order to solve the issue is eliminated. The left options are the mean or mode option, from which I will choose the mode which is the most frequent value from the column *NOX*."
   ]
  },
  {
   "cell_type": "code",
   "execution_count": 15,
   "metadata": {},
   "outputs": [
    {
     "data": {
      "text/plain": [
       "CRIM           False\n",
       "ZN             False\n",
       "INDUS          False\n",
       "CHAS           False\n",
       "NOX            False\n",
       "RM             False\n",
       "AGE            False\n",
       "GARDEN_SIZE    False\n",
       "DIS            False\n",
       "RAD            False\n",
       "TAX             True\n",
       "TARGET         False\n",
       "dtype: bool"
      ]
     },
     "execution_count": 15,
     "metadata": {},
     "output_type": "execute_result"
    }
   ],
   "source": [
    "# fill the empty cells with the mode \n",
    "boston_nox = boston_crim\n",
    "nox_mode = boston_nox['NOX'].mode()[0]\n",
    "boston_nox['NOX'].fillna(nox_mode, inplace = True)\n",
    "\n",
    "# check if the problem was solved\n",
    "boston_nox.isnull().any()"
   ]
  },
  {
   "cell_type": "markdown",
   "metadata": {},
   "source": [
    "As it can be observed the issue is solved as the column for *nitric oxides concentration* has no longer empty values."
   ]
  },
  {
   "cell_type": "code",
   "execution_count": 16,
   "metadata": {},
   "outputs": [
    {
     "name": "stdout",
     "output_type": "stream",
     "text": [
      "The data set has 502 rows with 12 attributes.\n"
     ]
    }
   ],
   "source": [
    "print('The data set has {} rows with {} attributes.'.format(*boston_nox.shape))"
   ]
  },
  {
   "cell_type": "markdown",
   "metadata": {},
   "source": [
    "The number of rows and columns did not change from the latest change because there has not been done any removal of rows as I choosed to use an imputation technique."
   ]
  },
  {
   "cell_type": "markdown",
   "metadata": {},
   "source": [
    "###  Weighted distance to employment centres\n",
    "\n",
    "Regarding the attribute *DIS* which represents the *weighted distance to the employment centers*, it was observed that the unique value of 1.8 is for all the Boston  suburbs, which does not seem resonable as there should be different distances. \n",
    "\n",
    "Based on this the only option is the removal of the whole column, as there is no other information based on which I would calculate these distances (no information about where this exployment centers are or other distances)."
   ]
  },
  {
   "cell_type": "code",
   "execution_count": 17,
   "metadata": {},
   "outputs": [
    {
     "data": {
      "text/html": [
       "<div>\n",
       "<style scoped>\n",
       "    .dataframe tbody tr th:only-of-type {\n",
       "        vertical-align: middle;\n",
       "    }\n",
       "\n",
       "    .dataframe tbody tr th {\n",
       "        vertical-align: top;\n",
       "    }\n",
       "\n",
       "    .dataframe thead th {\n",
       "        text-align: right;\n",
       "    }\n",
       "</style>\n",
       "<table border=\"1\" class=\"dataframe\">\n",
       "  <thead>\n",
       "    <tr style=\"text-align: right;\">\n",
       "      <th></th>\n",
       "      <th>CRIM</th>\n",
       "      <th>ZN</th>\n",
       "      <th>INDUS</th>\n",
       "      <th>CHAS</th>\n",
       "      <th>NOX</th>\n",
       "      <th>RM</th>\n",
       "      <th>AGE</th>\n",
       "      <th>GARDEN_SIZE</th>\n",
       "      <th>RAD</th>\n",
       "      <th>TAX</th>\n",
       "      <th>TARGET</th>\n",
       "    </tr>\n",
       "  </thead>\n",
       "  <tbody>\n",
       "    <tr>\n",
       "      <th>count</th>\n",
       "      <td>502.000000</td>\n",
       "      <td>502.000000</td>\n",
       "      <td>502.000000</td>\n",
       "      <td>502.000000</td>\n",
       "      <td>502.000000</td>\n",
       "      <td>502.000000</td>\n",
       "      <td>502.000000</td>\n",
       "      <td>502.000000</td>\n",
       "      <td>502.000000</td>\n",
       "      <td>483.000000</td>\n",
       "      <td>502.000000</td>\n",
       "    </tr>\n",
       "    <tr>\n",
       "      <th>mean</th>\n",
       "      <td>3.627632</td>\n",
       "      <td>11.294821</td>\n",
       "      <td>11.140657</td>\n",
       "      <td>0.069721</td>\n",
       "      <td>0.554242</td>\n",
       "      <td>6.286701</td>\n",
       "      <td>68.797410</td>\n",
       "      <td>16.524980</td>\n",
       "      <td>9.515936</td>\n",
       "      <td>410.846791</td>\n",
       "      <td>22.541633</td>\n",
       "    </tr>\n",
       "    <tr>\n",
       "      <th>std</th>\n",
       "      <td>8.632565</td>\n",
       "      <td>23.196951</td>\n",
       "      <td>6.854817</td>\n",
       "      <td>0.254930</td>\n",
       "      <td>0.113856</td>\n",
       "      <td>0.704780</td>\n",
       "      <td>28.126338</td>\n",
       "      <td>5.539397</td>\n",
       "      <td>8.685613</td>\n",
       "      <td>169.425222</td>\n",
       "      <td>9.232328</td>\n",
       "    </tr>\n",
       "    <tr>\n",
       "      <th>min</th>\n",
       "      <td>0.006320</td>\n",
       "      <td>0.000000</td>\n",
       "      <td>0.460000</td>\n",
       "      <td>0.000000</td>\n",
       "      <td>0.385000</td>\n",
       "      <td>3.561000</td>\n",
       "      <td>2.900000</td>\n",
       "      <td>6.000000</td>\n",
       "      <td>1.000000</td>\n",
       "      <td>187.000000</td>\n",
       "      <td>5.000000</td>\n",
       "    </tr>\n",
       "    <tr>\n",
       "      <th>25%</th>\n",
       "      <td>0.082045</td>\n",
       "      <td>0.000000</td>\n",
       "      <td>5.190000</td>\n",
       "      <td>0.000000</td>\n",
       "      <td>0.453000</td>\n",
       "      <td>5.885500</td>\n",
       "      <td>45.175000</td>\n",
       "      <td>13.110000</td>\n",
       "      <td>4.000000</td>\n",
       "      <td>280.500000</td>\n",
       "      <td>16.850000</td>\n",
       "    </tr>\n",
       "    <tr>\n",
       "      <th>50%</th>\n",
       "      <td>0.256510</td>\n",
       "      <td>0.000000</td>\n",
       "      <td>9.690000</td>\n",
       "      <td>0.000000</td>\n",
       "      <td>0.538000</td>\n",
       "      <td>6.209000</td>\n",
       "      <td>77.750000</td>\n",
       "      <td>15.720000</td>\n",
       "      <td>5.000000</td>\n",
       "      <td>330.000000</td>\n",
       "      <td>21.200000</td>\n",
       "    </tr>\n",
       "    <tr>\n",
       "      <th>75%</th>\n",
       "      <td>3.677082</td>\n",
       "      <td>12.500000</td>\n",
       "      <td>18.100000</td>\n",
       "      <td>0.000000</td>\n",
       "      <td>0.624000</td>\n",
       "      <td>6.628000</td>\n",
       "      <td>94.100000</td>\n",
       "      <td>18.000000</td>\n",
       "      <td>24.000000</td>\n",
       "      <td>666.000000</td>\n",
       "      <td>25.000000</td>\n",
       "    </tr>\n",
       "    <tr>\n",
       "      <th>max</th>\n",
       "      <td>88.976200</td>\n",
       "      <td>100.000000</td>\n",
       "      <td>27.740000</td>\n",
       "      <td>1.000000</td>\n",
       "      <td>0.871000</td>\n",
       "      <td>8.780000</td>\n",
       "      <td>100.000000</td>\n",
       "      <td>33.000000</td>\n",
       "      <td>24.000000</td>\n",
       "      <td>711.000000</td>\n",
       "      <td>50.000000</td>\n",
       "    </tr>\n",
       "  </tbody>\n",
       "</table>\n",
       "</div>"
      ],
      "text/plain": [
       "             CRIM          ZN       INDUS        CHAS         NOX          RM  \\\n",
       "count  502.000000  502.000000  502.000000  502.000000  502.000000  502.000000   \n",
       "mean     3.627632   11.294821   11.140657    0.069721    0.554242    6.286701   \n",
       "std      8.632565   23.196951    6.854817    0.254930    0.113856    0.704780   \n",
       "min      0.006320    0.000000    0.460000    0.000000    0.385000    3.561000   \n",
       "25%      0.082045    0.000000    5.190000    0.000000    0.453000    5.885500   \n",
       "50%      0.256510    0.000000    9.690000    0.000000    0.538000    6.209000   \n",
       "75%      3.677082   12.500000   18.100000    0.000000    0.624000    6.628000   \n",
       "max     88.976200  100.000000   27.740000    1.000000    0.871000    8.780000   \n",
       "\n",
       "              AGE  GARDEN_SIZE         RAD         TAX      TARGET  \n",
       "count  502.000000   502.000000  502.000000  483.000000  502.000000  \n",
       "mean    68.797410    16.524980    9.515936  410.846791   22.541633  \n",
       "std     28.126338     5.539397    8.685613  169.425222    9.232328  \n",
       "min      2.900000     6.000000    1.000000  187.000000    5.000000  \n",
       "25%     45.175000    13.110000    4.000000  280.500000   16.850000  \n",
       "50%     77.750000    15.720000    5.000000  330.000000   21.200000  \n",
       "75%     94.100000    18.000000   24.000000  666.000000   25.000000  \n",
       "max    100.000000    33.000000   24.000000  711.000000   50.000000  "
      ]
     },
     "execution_count": 17,
     "metadata": {},
     "output_type": "execute_result"
    }
   ],
   "source": [
    "# remove the DIS column\n",
    "boston_dis = boston_nox.drop('DIS', axis = 1)\n",
    "boston_dis.describe()"
   ]
  },
  {
   "cell_type": "markdown",
   "metadata": {},
   "source": [
    "By looking at the statistical table, it can be noticed that there is no longer the column *DIS* which reflected the distance to the employment centers in Boston."
   ]
  },
  {
   "cell_type": "code",
   "execution_count": 18,
   "metadata": {},
   "outputs": [
    {
     "name": "stdout",
     "output_type": "stream",
     "text": [
      "The data set has 502 rows with 11 attributes.\n"
     ]
    }
   ],
   "source": [
    "print('The data set has {} rows with {} attributes.'.format(*boston_dis.shape))"
   ]
  },
  {
   "cell_type": "markdown",
   "metadata": {},
   "source": [
    "The change can be observed by the fact that now the data set has now 11 attributes, while keeping the same number of rows."
   ]
  },
  {
   "cell_type": "markdown",
   "metadata": {},
   "source": [
    "### Full-value property-tax \n",
    "\n",
    "For the attribute *full-value property-tax per \\$ 10 000* which is found under abbreviation *TAX* it was noticed in the previous section that there are 19 missing values. I will solve this similar to the used approach for *NOX* attribute, but firstly I will analyse the graphic representation (boxplot and distribution plot)."
   ]
  },
  {
   "cell_type": "code",
   "execution_count": 19,
   "metadata": {},
   "outputs": [
    {
     "data": {
      "image/png": "[encoded data removed]",
      "text/plain": [
       "<Figure size 576x144 with 1 Axes>"
      ]
     },
     "metadata": {
      "needs_background": "light"
     },
     "output_type": "display_data"
    }
   ],
   "source": [
    "fig, ax = plt.subplots(figsize=(8,2))\n",
    "sns.boxplot(boston_dis.TAX, orient = 'h',color = '#76CEFE');"
   ]
  },
  {
   "cell_type": "code",
   "execution_count": 20,
   "metadata": {},
   "outputs": [
    {
     "data": {
      "image/png": "[encoded data removed]",
      "text/plain": [
       "<Figure size 720x432 with 1 Axes>"
      ]
     },
     "metadata": {
      "needs_background": "light"
     },
     "output_type": "display_data"
    }
   ],
   "source": [
    "fig, ax = plt.subplots(figsize=(10,6))\n",
    "sns.distplot(boston_dis.TAX,  color = '#179EDA', vertical = False, rug = 'True', bins = 12);"
   ]
  },
  {
   "cell_type": "markdown",
   "metadata": {},
   "source": [
    "In order to solve this issue, I will use an imputation technique based on mode as it follows."
   ]
  },
  {
   "cell_type": "code",
   "execution_count": 21,
   "metadata": {},
   "outputs": [
    {
     "data": {
      "text/plain": [
       "CRIM           False\n",
       "ZN             False\n",
       "INDUS          False\n",
       "CHAS           False\n",
       "NOX            False\n",
       "RM             False\n",
       "AGE            False\n",
       "GARDEN_SIZE    False\n",
       "RAD            False\n",
       "TAX            False\n",
       "TARGET         False\n",
       "dtype: bool"
      ]
     },
     "execution_count": 21,
     "metadata": {},
     "output_type": "execute_result"
    }
   ],
   "source": [
    "# fill the empty cells with the mode \n",
    "boston_tax = boston_dis\n",
    "tax_mode = boston_tax['TAX'].mode()[0]\n",
    "boston_tax['TAX'].fillna(tax_mode, inplace = True)\n",
    "\n",
    "# check if the issue is solved\n",
    "boston_tax.isnull().any()"
   ]
  },
  {
   "cell_type": "markdown",
   "metadata": {},
   "source": [
    "As it can observed from above, now there is no empty cell in the data set, which is favourable for going to the next step in the flow of developing a model."
   ]
  },
  {
   "cell_type": "code",
   "execution_count": 22,
   "metadata": {},
   "outputs": [
    {
     "data": {
      "text/html": [
       "<div>\n",
       "<style scoped>\n",
       "    .dataframe tbody tr th:only-of-type {\n",
       "        vertical-align: middle;\n",
       "    }\n",
       "\n",
       "    .dataframe tbody tr th {\n",
       "        vertical-align: top;\n",
       "    }\n",
       "\n",
       "    .dataframe thead th {\n",
       "        text-align: right;\n",
       "    }\n",
       "</style>\n",
       "<table border=\"1\" class=\"dataframe\">\n",
       "  <thead>\n",
       "    <tr style=\"text-align: right;\">\n",
       "      <th></th>\n",
       "      <th>CRIM</th>\n",
       "      <th>ZN</th>\n",
       "      <th>INDUS</th>\n",
       "      <th>CHAS</th>\n",
       "      <th>NOX</th>\n",
       "      <th>RM</th>\n",
       "      <th>AGE</th>\n",
       "      <th>GARDEN_SIZE</th>\n",
       "      <th>RAD</th>\n",
       "      <th>TAX</th>\n",
       "      <th>TARGET</th>\n",
       "    </tr>\n",
       "  </thead>\n",
       "  <tbody>\n",
       "    <tr>\n",
       "      <th>count</th>\n",
       "      <td>502.000000</td>\n",
       "      <td>502.000000</td>\n",
       "      <td>502.000000</td>\n",
       "      <td>502.000000</td>\n",
       "      <td>502.000000</td>\n",
       "      <td>502.000000</td>\n",
       "      <td>502.000000</td>\n",
       "      <td>502.000000</td>\n",
       "      <td>502.000000</td>\n",
       "      <td>502.000000</td>\n",
       "      <td>502.000000</td>\n",
       "    </tr>\n",
       "    <tr>\n",
       "      <th>mean</th>\n",
       "      <td>3.627632</td>\n",
       "      <td>11.294821</td>\n",
       "      <td>11.140657</td>\n",
       "      <td>0.069721</td>\n",
       "      <td>0.554242</td>\n",
       "      <td>6.286701</td>\n",
       "      <td>68.797410</td>\n",
       "      <td>16.524980</td>\n",
       "      <td>9.515936</td>\n",
       "      <td>420.503984</td>\n",
       "      <td>22.541633</td>\n",
       "    </tr>\n",
       "    <tr>\n",
       "      <th>std</th>\n",
       "      <td>8.632565</td>\n",
       "      <td>23.196951</td>\n",
       "      <td>6.854817</td>\n",
       "      <td>0.254930</td>\n",
       "      <td>0.113856</td>\n",
       "      <td>0.704780</td>\n",
       "      <td>28.126338</td>\n",
       "      <td>5.539397</td>\n",
       "      <td>8.685613</td>\n",
       "      <td>173.181498</td>\n",
       "      <td>9.232328</td>\n",
       "    </tr>\n",
       "    <tr>\n",
       "      <th>min</th>\n",
       "      <td>0.006320</td>\n",
       "      <td>0.000000</td>\n",
       "      <td>0.460000</td>\n",
       "      <td>0.000000</td>\n",
       "      <td>0.385000</td>\n",
       "      <td>3.561000</td>\n",
       "      <td>2.900000</td>\n",
       "      <td>6.000000</td>\n",
       "      <td>1.000000</td>\n",
       "      <td>187.000000</td>\n",
       "      <td>5.000000</td>\n",
       "    </tr>\n",
       "    <tr>\n",
       "      <th>25%</th>\n",
       "      <td>0.082045</td>\n",
       "      <td>0.000000</td>\n",
       "      <td>5.190000</td>\n",
       "      <td>0.000000</td>\n",
       "      <td>0.453000</td>\n",
       "      <td>5.885500</td>\n",
       "      <td>45.175000</td>\n",
       "      <td>13.110000</td>\n",
       "      <td>4.000000</td>\n",
       "      <td>284.000000</td>\n",
       "      <td>16.850000</td>\n",
       "    </tr>\n",
       "    <tr>\n",
       "      <th>50%</th>\n",
       "      <td>0.256510</td>\n",
       "      <td>0.000000</td>\n",
       "      <td>9.690000</td>\n",
       "      <td>0.000000</td>\n",
       "      <td>0.538000</td>\n",
       "      <td>6.209000</td>\n",
       "      <td>77.750000</td>\n",
       "      <td>15.720000</td>\n",
       "      <td>5.000000</td>\n",
       "      <td>348.000000</td>\n",
       "      <td>21.200000</td>\n",
       "    </tr>\n",
       "    <tr>\n",
       "      <th>75%</th>\n",
       "      <td>3.677082</td>\n",
       "      <td>12.500000</td>\n",
       "      <td>18.100000</td>\n",
       "      <td>0.000000</td>\n",
       "      <td>0.624000</td>\n",
       "      <td>6.628000</td>\n",
       "      <td>94.100000</td>\n",
       "      <td>18.000000</td>\n",
       "      <td>24.000000</td>\n",
       "      <td>666.000000</td>\n",
       "      <td>25.000000</td>\n",
       "    </tr>\n",
       "    <tr>\n",
       "      <th>max</th>\n",
       "      <td>88.976200</td>\n",
       "      <td>100.000000</td>\n",
       "      <td>27.740000</td>\n",
       "      <td>1.000000</td>\n",
       "      <td>0.871000</td>\n",
       "      <td>8.780000</td>\n",
       "      <td>100.000000</td>\n",
       "      <td>33.000000</td>\n",
       "      <td>24.000000</td>\n",
       "      <td>711.000000</td>\n",
       "      <td>50.000000</td>\n",
       "    </tr>\n",
       "  </tbody>\n",
       "</table>\n",
       "</div>"
      ],
      "text/plain": [
       "             CRIM          ZN       INDUS        CHAS         NOX          RM  \\\n",
       "count  502.000000  502.000000  502.000000  502.000000  502.000000  502.000000   \n",
       "mean     3.627632   11.294821   11.140657    0.069721    0.554242    6.286701   \n",
       "std      8.632565   23.196951    6.854817    0.254930    0.113856    0.704780   \n",
       "min      0.006320    0.000000    0.460000    0.000000    0.385000    3.561000   \n",
       "25%      0.082045    0.000000    5.190000    0.000000    0.453000    5.885500   \n",
       "50%      0.256510    0.000000    9.690000    0.000000    0.538000    6.209000   \n",
       "75%      3.677082   12.500000   18.100000    0.000000    0.624000    6.628000   \n",
       "max     88.976200  100.000000   27.740000    1.000000    0.871000    8.780000   \n",
       "\n",
       "              AGE  GARDEN_SIZE         RAD         TAX      TARGET  \n",
       "count  502.000000   502.000000  502.000000  502.000000  502.000000  \n",
       "mean    68.797410    16.524980    9.515936  420.503984   22.541633  \n",
       "std     28.126338     5.539397    8.685613  173.181498    9.232328  \n",
       "min      2.900000     6.000000    1.000000  187.000000    5.000000  \n",
       "25%     45.175000    13.110000    4.000000  284.000000   16.850000  \n",
       "50%     77.750000    15.720000    5.000000  348.000000   21.200000  \n",
       "75%     94.100000    18.000000   24.000000  666.000000   25.000000  \n",
       "max    100.000000    33.000000   24.000000  711.000000   50.000000  "
      ]
     },
     "execution_count": 22,
     "metadata": {},
     "output_type": "execute_result"
    }
   ],
   "source": [
    "# get the statistical summary\n",
    "boston_tax.describe()"
   ]
  },
  {
   "cell_type": "markdown",
   "metadata": {},
   "source": [
    "As it can be observed, now all the columns have the same number of values and there is no empty cell."
   ]
  },
  {
   "cell_type": "code",
   "execution_count": 23,
   "metadata": {},
   "outputs": [
    {
     "name": "stdout",
     "output_type": "stream",
     "text": [
      "The data set has 502 rows with 11 attributes.\n"
     ]
    }
   ],
   "source": [
    "# the final data set \n",
    "boston_final = boston_tax\n",
    "print('The data set has {} rows with {} attributes.'.format(*boston_final.shape))"
   ]
  },
  {
   "cell_type": "markdown",
   "metadata": {},
   "source": [
    "The number of rows and columns did not change because it was only made a change of missing cells on *TAX* column.\n",
    "The final version of the data set is can be found as *boston_final* for which there are 502 rows and 11 attributes."
   ]
  },
  {
   "cell_type": "markdown",
   "metadata": {},
   "source": [
    "---\n",
    "## Exploratory Data Analysis\n",
    "\n"
   ]
  },
  {
   "cell_type": "markdown",
   "metadata": {},
   "source": [
    "After getting the final version of the data set, an important aspect is the exploratory data analysis in order to check skewness of each variable as it follows."
   ]
  },
  {
   "cell_type": "code",
   "execution_count": 24,
   "metadata": {},
   "outputs": [
    {
     "data": {
      "image/png": "[encoded data removed]",
      "text/plain": [
       "<Figure size 1440x720 with 12 Axes>"
      ]
     },
     "metadata": {
      "needs_background": "light"
     },
     "output_type": "display_data"
    }
   ],
   "source": [
    "# create box plots\n",
    "fig, ax = plt.subplots(ncols = 6, nrows = 2, figsize = (20,10))\n",
    "index = 0\n",
    "ax = ax.flatten()\n",
    "\n",
    "for col, value in boston_final.items():\n",
    "    sns.boxplot(y = col, data = boston_final, ax = ax[index], color = '#76CEFE')\n",
    "    index += 1\n",
    "\n",
    "#arrange the layout of the boxplots\n",
    "plt.tight_layout(pad = 0.5, w_pad = 0.7, h_pad = 5.0) \n",
    "\n",
    "# eliminate the empty boxplot \n",
    "ax[11].set_axis_off() "
   ]
  },
  {
   "cell_type": "code",
   "execution_count": 25,
   "metadata": {},
   "outputs": [
    {
     "data": {
      "image/png": "[encoded data removed]",
      "text/plain": [
       "<Figure size 1440x720 with 12 Axes>"
      ]
     },
     "metadata": {
      "needs_background": "light"
     },
     "output_type": "display_data"
    }
   ],
   "source": [
    "# create dist plots\n",
    "fig, ax = plt.subplots(ncols = 6, nrows = 2, figsize = (20,10))\n",
    "index = 0\n",
    "ax = ax.flatten()\n",
    "\n",
    "for col, value in boston_final.items():\n",
    "    sns.distplot(value, ax = ax[index], color = '#179EDA')\n",
    "    index += 1\n",
    "\n",
    "#arrange the layout of the displots\n",
    "plt.tight_layout(pad = 0.5, w_pad = 0.7, h_pad = 5.0) \n",
    "\n",
    "# eliminate the empty boxplot\n",
    "ax[11].set_axis_off()  "
   ]
  },
  {
   "cell_type": "markdown",
   "metadata": {},
   "source": [
    "By looking at both boxplots and distributionn plots there are multiple observations which have to be done. Firstly, on *CRIM* and *ZN* lots of outliers have been noticed (which means that it can not follow a normal distribution so it might be a good solution to transform it by log). Also, these variables has positive skewness which means that most of the figures are around the left tail of the distribution.\n",
    "\n",
    "For variables *TARGET*, *GARDEN_SIZE*, *NOX* there is a tendancy to get a normal distribution more than being a right skewed distribution. Also, *RM* follows a normal distribution for sure.\n",
    "\n",
    "Regarding the categorical attribute *CHAS* it can be observed that most of the values are 0 with few ones which are 1, that means there is not such a big contribution this variable can give so it might be an option to drop it.\n",
    "\n",
    "The attribute *AGE* has a negative skewness as more values can be found on the right tail.\n",
    "\n",
    "An interesting situation is present in the case of attributes *INDUS*, *RAD*, *TAX* where it can be identified a bimodal distribution.\n"
   ]
  },
  {
   "cell_type": "markdown",
   "metadata": {},
   "source": [
    "---\n",
    "## Correlation Matrix\n"
   ]
  },
  {
   "cell_type": "markdown",
   "metadata": {},
   "source": [
    "Another important aspect is the possible existence of correlation between variables, as a perfect correlation (nor positive or negative) can include multicollinearity. In order to analyse the relationship between attributes I will creata a correlation matrix which is presented below."
   ]
  },
  {
   "cell_type": "code",
   "execution_count": 26,
   "metadata": {},
   "outputs": [
    {
     "data": {
      "image/png": "[encoded data removed]",
      "text/plain": [
       "<Figure size 864x576 with 2 Axes>"
      ]
     },
     "metadata": {
      "needs_background": "light"
     },
     "output_type": "display_data"
    }
   ],
   "source": [
    "# create the correlation matrix\n",
    "corr = boston_final.corr()\n",
    "plt.figure(figsize = (12,8))\n",
    "sns.heatmap(corr, annot = True, cmap = 'coolwarm');"
   ]
  },
  {
   "cell_type": "markdown",
   "metadata": {},
   "source": [
    "By looking at the *TARGET* attribute for which I will develop the model it can observed that it has a perfect positive correlation with *GARDEN_SIZE*. Also, a  positive relationship it can be also observed with *RM* which is quite strong (0.7), but not as strong as the one with *GARDEN_SIZE* variable. A positive correlation for *TARGET* can be identified also with *ZN* and *CHAS*. Otherwise, for the rest of the attributes there is a moderate negative correlation with the *TARGET* variable.\n",
    "\n",
    "It can be observed that variable *CHAR* presents nearly no relationship with any other variable which is why this attribute will be excluded as it just decreases the future model accuracy.\n",
    "\n",
    "Also, as an overview it can be noticed there is a strong positive relationship between *RAD* and *TAX* variables."
   ]
  },
  {
   "cell_type": "markdown",
   "metadata": {},
   "source": [
    "The strong relationship between the dependent variable *TARGET* and *GARDEN_SIZE*, respectively *RM* can be observed also from the graphical representations from below."
   ]
  },
  {
   "cell_type": "code",
   "execution_count": 27,
   "metadata": {},
   "outputs": [
    {
     "data": {
      "image/png": "[encoded data removed]",
      "text/plain": [
       "<Figure size 432x288 with 1 Axes>"
      ]
     },
     "metadata": {
      "needs_background": "light"
     },
     "output_type": "display_data"
    }
   ],
   "source": [
    "# plot of *TARGET* and *GARDEN_SIZE*\n",
    "sns.regplot(y = boston_final['TARGET'], x = boston_final['GARDEN_SIZE'],color = '#008E46');"
   ]
  },
  {
   "cell_type": "code",
   "execution_count": 28,
   "metadata": {},
   "outputs": [
    {
     "data": {
      "image/png": "[encoded data removed]",
      "text/plain": [
       "<Figure size 432x288 with 1 Axes>"
      ]
     },
     "metadata": {
      "needs_background": "light"
     },
     "output_type": "display_data"
    }
   ],
   "source": [
    "# plot of TARGET and RM\n",
    "sns.regplot(y = boston_final['TARGET'], x = boston_final['RM'], color = '#008E46');"
   ]
  },
  {
   "cell_type": "markdown",
   "metadata": {},
   "source": [
    "As it can be observed, the positive relationship between *TARGET* and *RM* implies that when the number of rooms increases the target variable increases as well. This gives some orientation about the fact that the dependent variable is related to the value of a house because it is known the fact that the number of rooms is related to the amount of money someone has to pay for a house.\n",
    "\n",
    "On the same note, regarding the relationship with variable *GARDEN_SIZE* it seems that as the garden size increases the price of the house increases. The fact that this relationship is much stronger can imply also the fact that more than the number of rooms a house has, an important aspect is also the size of the garden."
   ]
  },
  {
   "cell_type": "markdown",
   "metadata": {},
   "source": [
    "---\n",
    "## Feature Selection\n",
    "\n",
    "As it was observed from the previous section there are variables which have different influence one over another, which is why it can be difficult to choose the attributes which will remain before creating the model. Using feature selection I will select the attributes which will perfectly contribute to the prediction of variable *TARGET* which is the objective of this project. This is necessary because the existence of some variables can decrease the accuracy of the model."
   ]
  },
  {
   "cell_type": "code",
   "execution_count": 29,
   "metadata": {},
   "outputs": [
    {
     "name": "stdout",
     "output_type": "stream",
     "text": [
      "        CRIM    ZN  INDUS  CHAS    NOX     RM   AGE  GARDEN_SIZE  RAD    TAX  \\\n",
      "0    0.00632  18.0   2.31     0  0.538  6.575  65.2        17.40    1  296.0   \n",
      "1    0.02731   0.0   7.07     0  0.469  6.421  78.9        15.96    2  242.0   \n",
      "2    0.02729   0.0   7.07     0  0.469  7.185  61.1        23.82    2  242.0   \n",
      "3    0.03237   0.0   2.18     0  0.458  6.998  45.8        23.04    3  222.0   \n",
      "4    0.06905   0.0   2.18     0  0.458  7.147  54.2        24.72    3  222.0   \n",
      "..       ...   ...    ...   ...    ...    ...   ...          ...  ...    ...   \n",
      "501  0.06263   0.0  11.93     0  0.573  6.593  69.1        16.44    1  273.0   \n",
      "502  0.04527   0.0  11.93     0  0.573  6.120  76.7        15.36    1  273.0   \n",
      "503  0.06076   0.0  11.93     0  0.573  6.976  91.0        17.34    1  273.0   \n",
      "504  0.10959   0.0  11.93     0  0.573  6.794  89.3        16.20    1  273.0   \n",
      "505  0.04741   0.0  11.93     0  0.573  6.030  80.8        10.14    1  273.0   \n",
      "\n",
      "     TARGET  \n",
      "0      24.0  \n",
      "1      21.6  \n",
      "2      34.7  \n",
      "3      33.4  \n",
      "4      36.2  \n",
      "..      ...  \n",
      "501    22.4  \n",
      "502    20.6  \n",
      "503    23.9  \n",
      "504    22.0  \n",
      "505    11.9  \n",
      "\n",
      "[502 rows x 11 columns]\n"
     ]
    }
   ],
   "source": [
    "# import for selecting features with the highest values from test chi sq\n",
    "from sklearn.feature_selection import SelectKBest \n",
    "from sklearn.feature_selection import chi2 \n",
    "x = boston_final.iloc[:,0:11] #independent variables\n",
    "y = boston_final.iloc[:,-1] #dependent variable\n",
    "y = np.round(boston_final['TARGET']) \n",
    "print(x)"
   ]
  },
  {
   "cell_type": "markdown",
   "metadata": {},
   "source": [
    "After this, I will find the best features from the current data set which will form the modelling data set."
   ]
  },
  {
   "cell_type": "code",
   "execution_count": 30,
   "metadata": {},
   "outputs": [
    {
     "data": {
      "text/html": [
       "<div>\n",
       "<style scoped>\n",
       "    .dataframe tbody tr th:only-of-type {\n",
       "        vertical-align: middle;\n",
       "    }\n",
       "\n",
       "    .dataframe tbody tr th {\n",
       "        vertical-align: top;\n",
       "    }\n",
       "\n",
       "    .dataframe thead th {\n",
       "        text-align: right;\n",
       "    }\n",
       "</style>\n",
       "<table border=\"1\" class=\"dataframe\">\n",
       "  <thead>\n",
       "    <tr style=\"text-align: right;\">\n",
       "      <th></th>\n",
       "      <th>Attribute</th>\n",
       "      <th>Score</th>\n",
       "    </tr>\n",
       "  </thead>\n",
       "  <tbody>\n",
       "    <tr>\n",
       "      <th>0</th>\n",
       "      <td>CRIM</td>\n",
       "      <td>5478.103777</td>\n",
       "    </tr>\n",
       "    <tr>\n",
       "      <th>1</th>\n",
       "      <td>ZN</td>\n",
       "      <td>6024.062718</td>\n",
       "    </tr>\n",
       "    <tr>\n",
       "      <th>2</th>\n",
       "      <td>INDUS</td>\n",
       "      <td>870.842399</td>\n",
       "    </tr>\n",
       "    <tr>\n",
       "      <th>3</th>\n",
       "      <td>CHAS</td>\n",
       "      <td>58.412381</td>\n",
       "    </tr>\n",
       "    <tr>\n",
       "      <th>4</th>\n",
       "      <td>NOX</td>\n",
       "      <td>4.638428</td>\n",
       "    </tr>\n",
       "    <tr>\n",
       "      <th>5</th>\n",
       "      <td>RM</td>\n",
       "      <td>21.915153</td>\n",
       "    </tr>\n",
       "    <tr>\n",
       "      <th>6</th>\n",
       "      <td>AGE</td>\n",
       "      <td>2386.797617</td>\n",
       "    </tr>\n",
       "    <tr>\n",
       "      <th>7</th>\n",
       "      <td>GARDEN_SIZE</td>\n",
       "      <td>929.487579</td>\n",
       "    </tr>\n",
       "    <tr>\n",
       "      <th>8</th>\n",
       "      <td>RAD</td>\n",
       "      <td>1452.134360</td>\n",
       "    </tr>\n",
       "    <tr>\n",
       "      <th>9</th>\n",
       "      <td>TAX</td>\n",
       "      <td>13452.862635</td>\n",
       "    </tr>\n",
       "    <tr>\n",
       "      <th>10</th>\n",
       "      <td>TARGET</td>\n",
       "      <td>1892.764799</td>\n",
       "    </tr>\n",
       "  </tbody>\n",
       "</table>\n",
       "</div>"
      ],
      "text/plain": [
       "      Attribute         Score\n",
       "0          CRIM   5478.103777\n",
       "1            ZN   6024.062718\n",
       "2         INDUS    870.842399\n",
       "3          CHAS     58.412381\n",
       "4           NOX      4.638428\n",
       "5            RM     21.915153\n",
       "6           AGE   2386.797617\n",
       "7   GARDEN_SIZE    929.487579\n",
       "8           RAD   1452.134360\n",
       "9           TAX  13452.862635\n",
       "10       TARGET   1892.764799"
      ]
     },
     "execution_count": 30,
     "metadata": {},
     "output_type": "execute_result"
    }
   ],
   "source": [
    "# get the best features\n",
    "top_feat = SelectKBest(score_func=chi2, k=5)\n",
    "fit = top_feat.fit(x,y)\n",
    "boston_scores = pd.DataFrame(fit.scores_)\n",
    "boston_columns = pd.DataFrame(x.columns)\n",
    "\n",
    "feat_scores = pd.concat([boston_columns, boston_scores], axis = 1)\n",
    "feat_scores.columns = ['Attribute','Score']\n",
    "feat_scores"
   ]
  },
  {
   "cell_type": "markdown",
   "metadata": {},
   "source": [
    "The results are presented above, but these should be put in order to better understand the scores."
   ]
  },
  {
   "cell_type": "code",
   "execution_count": 31,
   "metadata": {},
   "outputs": [
    {
     "name": "stdout",
     "output_type": "stream",
     "text": [
      "      Attribute         Score\n",
      "9           TAX  13452.862635\n",
      "1            ZN   6024.062718\n",
      "0          CRIM   5478.103777\n",
      "6           AGE   2386.797617\n",
      "10       TARGET   1892.764799\n",
      "8           RAD   1452.134360\n",
      "7   GARDEN_SIZE    929.487579\n",
      "2         INDUS    870.842399\n",
      "3          CHAS     58.412381\n",
      "5            RM     21.915153\n"
     ]
    }
   ],
   "source": [
    "#print the most 10 favourable features in order\n",
    "print(feat_scores.nlargest(10,'Score')) "
   ]
  },
  {
   "cell_type": "markdown",
   "metadata": {},
   "source": [
    "As it can be noticed, the variables with the best scores are the following: *TAX*,*ZN*, *CRIM*, *AGE*. Otherwise, in the following section I will find out which attribute would have a greater impact in predicting the *TARGET* variable.\n"
   ]
  },
  {
   "cell_type": "markdown",
   "metadata": {},
   "source": [
    "---\n",
    "## Feature Importance\n",
    "\n",
    "After obtaining the most 10 favourable attributes from the data set, I will investigate the usefulness of all the attributes in predicting the dependent variable using Extremely Randomized Trees Classifier."
   ]
  },
  {
   "cell_type": "code",
   "execution_count": 32,
   "metadata": {},
   "outputs": [
    {
     "name": "stdout",
     "output_type": "stream",
     "text": [
      "[0.06567683 0.01839209 0.03319686 0.0097818  0.04816189 0.07864127\n",
      " 0.07323485 0.30259291 0.03010683 0.03128798 0.3089267 ]\n"
     ]
    }
   ],
   "source": [
    "# use ExtraTreesClassifier\n",
    "from sklearn.ensemble import ExtraTreesClassifier\n",
    "boston_model = ExtraTreesClassifier()\n",
    "boston_model.fit(x,y)\n",
    "print(boston_model.feature_importances_)"
   ]
  },
  {
   "cell_type": "markdown",
   "metadata": {},
   "source": [
    "We got the classification coefficients, but in order to better understand these results I will do a graphic representation."
   ]
  },
  {
   "cell_type": "code",
   "execution_count": 33,
   "metadata": {},
   "outputs": [
    {
     "data": {
      "image/png": "[encoded data removed]",
      "text/plain": [
       "<Figure size 432x288 with 1 Axes>"
      ]
     },
     "metadata": {
      "needs_background": "light"
     },
     "output_type": "display_data"
    }
   ],
   "source": [
    "# graphic representation of ExtraTreesClassifier\n",
    "feat_impor = pd.Series(boston_model.feature_importances_, index=x.columns)\n",
    "feat_impor.nlargest(10).plot(kind='barh', color = 'blue')\n",
    "plt.show()"
   ]
  },
  {
   "cell_type": "markdown",
   "metadata": {},
   "source": [
    "As a result of these type of analysis, a decision has to be made regarding the variables which will remain for the building of the model. Considering this method, but also the correlation matrix observations I decide to keep only the variables *CRIM*, *AGE*, *TAX*, *RM* for predicting the value of *TARGET*."
   ]
  },
  {
   "cell_type": "markdown",
   "metadata": {},
   "source": [
    "---\n",
    "## Building the Model"
   ]
  },
  {
   "cell_type": "markdown",
   "metadata": {},
   "source": [
    "In the following sections I will present the techniques used to make the prediction of *TARGET* variable.\n",
    "\n",
    "The model which will be used is based on linear regression. In this section I will create the split in train data set and test data set."
   ]
  },
  {
   "cell_type": "code",
   "execution_count": 34,
   "metadata": {},
   "outputs": [
    {
     "name": "stdout",
     "output_type": "stream",
     "text": [
      "        CRIM   AGE    TAX     RM\n",
      "0    0.00632  65.2  296.0  6.575\n",
      "1    0.02731  78.9  242.0  6.421\n",
      "2    0.02729  61.1  242.0  7.185\n",
      "3    0.03237  45.8  222.0  6.998\n",
      "4    0.06905  54.2  222.0  7.147\n",
      "..       ...   ...    ...    ...\n",
      "501  0.06263  69.1  273.0  6.593\n",
      "502  0.04527  76.7  273.0  6.120\n",
      "503  0.06076  91.0  273.0  6.976\n",
      "504  0.10959  89.3  273.0  6.794\n",
      "505  0.04741  80.8  273.0  6.030\n",
      "\n",
      "[502 rows x 4 columns]\n"
     ]
    }
   ],
   "source": [
    "# establish the variables which will be taken in consideration \n",
    "x = boston_final[['CRIM','AGE','TAX','RM']]\n",
    "y = boston_final['TARGET']\n",
    "print(x)\n",
    "\n",
    "# split the data in traing data and testing data\n",
    "from sklearn.model_selection import train_test_split\n",
    "x_train,x_test,y_train,y_test = train_test_split(x,y,test_size=0.3,random_state=0) "
   ]
  },
  {
   "cell_type": "markdown",
   "metadata": {},
   "source": [
    "After spliting the data in two sections (where I set the test size to 0.3), I will have to import the library for regression and start training the model with training sets."
   ]
  },
  {
   "cell_type": "code",
   "execution_count": 35,
   "metadata": {},
   "outputs": [
    {
     "data": {
      "text/plain": [
       "LinearRegression()"
      ]
     },
     "execution_count": 35,
     "metadata": {},
     "output_type": "execute_result"
    }
   ],
   "source": [
    "# import the library for regression\n",
    "from sklearn.linear_model import LinearRegression\n",
    "\n",
    "model_lin = LinearRegression()\n",
    "\n",
    "# train the model with training sets\n",
    "model_lin.fit(x_train,y_train)"
   ]
  },
  {
   "cell_type": "markdown",
   "metadata": {},
   "source": [
    "Below the coeffiecients for each variable are presented."
   ]
  },
  {
   "cell_type": "code",
   "execution_count": 36,
   "metadata": {},
   "outputs": [
    {
     "data": {
      "text/html": [
       "<div>\n",
       "<style scoped>\n",
       "    .dataframe tbody tr th:only-of-type {\n",
       "        vertical-align: middle;\n",
       "    }\n",
       "\n",
       "    .dataframe tbody tr th {\n",
       "        vertical-align: top;\n",
       "    }\n",
       "\n",
       "    .dataframe thead th {\n",
       "        text-align: right;\n",
       "    }\n",
       "</style>\n",
       "<table border=\"1\" class=\"dataframe\">\n",
       "  <thead>\n",
       "    <tr style=\"text-align: right;\">\n",
       "      <th></th>\n",
       "      <th>Attribute</th>\n",
       "      <th>Coefficients</th>\n",
       "    </tr>\n",
       "  </thead>\n",
       "  <tbody>\n",
       "    <tr>\n",
       "      <th>0</th>\n",
       "      <td>CRIM</td>\n",
       "      <td>-0.16546</td>\n",
       "    </tr>\n",
       "    <tr>\n",
       "      <th>1</th>\n",
       "      <td>AGE</td>\n",
       "      <td>-0.0383029</td>\n",
       "    </tr>\n",
       "    <tr>\n",
       "      <th>2</th>\n",
       "      <td>TAX</td>\n",
       "      <td>-0.00468716</td>\n",
       "    </tr>\n",
       "    <tr>\n",
       "      <th>3</th>\n",
       "      <td>RM</td>\n",
       "      <td>8.32469</td>\n",
       "    </tr>\n",
       "  </tbody>\n",
       "</table>\n",
       "</div>"
      ],
      "text/plain": [
       "  Attribute Coefficients\n",
       "0      CRIM     -0.16546\n",
       "1       AGE   -0.0383029\n",
       "2       TAX  -0.00468716\n",
       "3        RM      8.32469"
      ]
     },
     "execution_count": 36,
     "metadata": {},
     "output_type": "execute_result"
    }
   ],
   "source": [
    "# values of the coefficient for each variable\n",
    "coeff = pd.DataFrame([x_train.columns,model_lin.coef_]).T\n",
    "coeff = coeff.rename(columns={0: 'Attribute', 1: 'Coefficients'})\n",
    "coeff"
   ]
  },
  {
   "cell_type": "markdown",
   "metadata": {},
   "source": [
    "By looking above, it can be observed and confirmed the positive relationship between the *TARGET* variable and the average number of rooms. So, at an increase in the average number of rooms with one unit, the *TARGET* variable will increase with around 8 units.\n",
    "\n",
    "The rest of the variables have a negative relationship with the dependent variable. For example, at an increase in the criminal rate with one unit, there will be a decrease in the *TARGET* value. This can be explained because if the *TARGET* value represents the price of a house, it seems normal to have smaller prices for houses in places where criminal rate is big. "
   ]
  },
  {
   "cell_type": "markdown",
   "metadata": {},
   "source": [
    "---\n",
    "## Evaluation of the Model"
   ]
  },
  {
   "cell_type": "markdown",
   "metadata": {},
   "source": [
    "In this section the created model will be evaluated by looking at some statistical measurements of the quality of a model."
   ]
  },
  {
   "cell_type": "code",
   "execution_count": 37,
   "metadata": {},
   "outputs": [],
   "source": [
    "# prediction on training data\n",
    "y_prediction = model_lin.predict(x_train)"
   ]
  },
  {
   "cell_type": "code",
   "execution_count": 38,
   "metadata": {},
   "outputs": [
    {
     "name": "stdout",
     "output_type": "stream",
     "text": [
      "R2: 0.5707846465834718\n",
      "Adjusted R2: 0.5658226193763443\n",
      "MAE: 3.9992119707510327\n",
      "MSE: 38.41200181229456\n",
      "RMSE: 6.197741670342074\n"
     ]
    }
   ],
   "source": [
    "# evaluation of the model with the basic indicators\n",
    "from sklearn import metrics\n",
    "print('R2:',metrics.r2_score(y_train, y_prediction))\n",
    "print('Adjusted R2:',1 - (1-metrics.r2_score(y_train, y_prediction))*(len(y_train)-1)/(len(y_train)-x_train.shape[1]-1))\n",
    "print('MAE:',metrics.mean_absolute_error(y_train, y_prediction))\n",
    "print('MSE:',metrics.mean_squared_error(y_train, y_prediction))\n",
    "print('RMSE:',np.sqrt(metrics.mean_squared_error(y_train, y_prediction)))"
   ]
  },
  {
   "cell_type": "markdown",
   "metadata": {},
   "source": [
    "By looking at the statistical indices from above, it can be said that the model is far from being perfect. The value of 0.57 for R-squared means that only 57% of the influence on the dependent variable *TARGET* is explained by this model. This value can be improved by following steps like the following: remove ouliers, get a bigger data set, more features or other representative attributes.\n",
    "\n",
    "Regarding the root mean squared error, the value is of 6.2 which reflect an error from the actual figure for *TARGET* attribute."
   ]
  },
  {
   "cell_type": "markdown",
   "metadata": {},
   "source": [
    "---\n",
    "## Model Performance"
   ]
  },
  {
   "cell_type": "markdown",
   "metadata": {},
   "source": [
    "Another way to analyse the model is by its performance which can be reflected by comparing the score for training and testing data. "
   ]
  },
  {
   "cell_type": "code",
   "execution_count": 39,
   "metadata": {},
   "outputs": [
    {
     "name": "stdout",
     "output_type": "stream",
     "text": [
      "Training: 57.07846465834719\n",
      "Testing: 56.675158586637586\n"
     ]
    }
   ],
   "source": [
    "print(\"Training:\",model_lin.score(x_train,y_train)*100)\n",
    "print(\"Testing:\",model_lin.score(x_test,y_test)*100)"
   ]
  },
  {
   "cell_type": "code",
   "execution_count": 40,
   "metadata": {},
   "outputs": [
    {
     "name": "stdout",
     "output_type": "stream",
     "text": [
      "Model Accuracy: 57.07335266554535\n"
     ]
    }
   ],
   "source": [
    "from sklearn.metrics import mean_squared_error, r2_score\n",
    "print(\"Model Accuracy:\",r2_score(y,model_lin.predict(x))*100)"
   ]
  },
  {
   "cell_type": "markdown",
   "metadata": {},
   "source": [
    "Also, in order to better understand the differences between the actual values for *TARGET* variable and the predicted ones, I will make a graphic representation."
   ]
  },
  {
   "cell_type": "code",
   "execution_count": 41,
   "metadata": {},
   "outputs": [
    {
     "data": {
      "image/png": "[encoded data removed]",
      "text/plain": [
       "<Figure size 432x288 with 1 Axes>"
      ]
     },
     "metadata": {
      "needs_background": "light"
     },
     "output_type": "display_data"
    }
   ],
   "source": [
    "# differences between actual and predicted values for target variable\n",
    "plt.scatter(y_train, y_prediction)\n",
    "plt.xlabel(\"Actual TARGET\")\n",
    "plt.ylabel(\"Predicted TARGET\")\n",
    "plt.title(\"Actual TARGET vs Predicted TARGET\")\n",
    "plt.show()"
   ]
  },
  {
   "cell_type": "markdown",
   "metadata": {},
   "source": [
    "Another point of view of this analysis is the overview of the residuals."
   ]
  },
  {
   "cell_type": "code",
   "execution_count": 42,
   "metadata": {},
   "outputs": [
    {
     "data": {
      "image/png": "[encoded data removed]",
      "text/plain": [
       "<Figure size 432x288 with 1 Axes>"
      ]
     },
     "metadata": {
      "needs_background": "light"
     },
     "output_type": "display_data"
    }
   ],
   "source": [
    "# check residuals\n",
    "plt.scatter(y_prediction,y_train-y_prediction);\n",
    "plt.title(\"Predicted vs residuals\")\n",
    "plt.xlabel(\"Predicted\")\n",
    "plt.ylabel(\"Residuals\")\n",
    "plt.show()"
   ]
  },
  {
   "cell_type": "markdown",
   "metadata": {},
   "source": [
    "From the above graph it can be noticed that a big amount is around 0 which is good, but not exactly the best model."
   ]
  },
  {
   "cell_type": "code",
   "execution_count": 43,
   "metadata": {},
   "outputs": [
    {
     "data": {
      "image/png": "[encoded data removed]",
      "text/plain": [
       "<Figure size 432x288 with 1 Axes>"
      ]
     },
     "metadata": {
      "needs_background": "light"
     },
     "output_type": "display_data"
    }
   ],
   "source": [
    "# Checking Normality of errors\n",
    "sns.distplot(y_train-y_prediction)\n",
    "plt.title(\"Histogram of Residuals\")\n",
    "plt.xlabel(\"Residuals\")\n",
    "plt.ylabel(\"Frequency\")\n",
    "plt.show()"
   ]
  },
  {
   "cell_type": "markdown",
   "metadata": {},
   "source": [
    "Regarding the normality of residuals, in the above representation it can be noticed that these residuals are somehow between a normal distribution and a right skewed representation, which also confirms the fact that this model is not the perfect one for the data set."
   ]
  },
  {
   "cell_type": "markdown",
   "metadata": {},
   "source": [
    "---\n",
    "## Prediction"
   ]
  },
  {
   "cell_type": "markdown",
   "metadata": {},
   "source": [
    "If I were to assume a possible way this model can be used, it might be helpful for real estate agent or a person which is interested in selling a house, but does not know which price would be the most fair. Let's assume the following two potential customers with the following attributes:\n",
    "\n",
    "|Feature||Customer 1||Customer 2|\n",
    "|----||----||----|\n",
    "|Criminal rate||0.1||1|\n",
    "|Age ||10||50|\n",
    "|Tax||300||200|\n",
    "|Rooms in the house||8||5|\n",
    "\n",
    "Based on these attributes, it can be expected that the for the first house the buyer would pay more money than for the second one, as he is expecting to find a house in an area with low criminal rate, a relative new house, for which he will pay more taxes and will have more rooms. But this theory will be checked after using the created model."
   ]
  },
  {
   "cell_type": "code",
   "execution_count": 44,
   "metadata": {},
   "outputs": [
    {
     "name": "stdout",
     "output_type": "stream",
     "text": [
      "Predicted target for Customer 1's home: 40.36\n",
      "Predicted target for Customer 2's home: 13.94\n"
     ]
    }
   ],
   "source": [
    "# assume a matrix with the following info\n",
    "potential_customer = [[0.1, 10, 300, 8], \n",
    "                      [1, 50, 250,5]] \n",
    "          \n",
    "# Show predictions\n",
    "for i, target in enumerate(model_lin.predict(potential_customer)):\n",
    "    print(\"Predicted target for Customer {}'s home: {:,.2f}\".format(i+1, target))"
   ]
  },
  {
   "cell_type": "markdown",
   "metadata": {},
   "source": [
    "As expected, a home which fits the profile for the first customer can cost around 40 units (here it deppends if in the data set the *TARGET* attribute is expressed in thousands or millions), while for the second customer may cost around 14 units. So, a house with more favourable characteristics will have a bigger price than the one with less rooms for example."
   ]
  },
  {
   "cell_type": "markdown",
   "metadata": {},
   "source": [
    "---\n",
    "## Conclusion"
   ]
  },
  {
   "cell_type": "markdown",
   "metadata": {},
   "source": [
    "In this project, I proposed a model in order to predict the variable *TARGET* from the Boston House Prices data set. I have done this by using the most basic model which could have been created (linear regression). The results obtained are good, but not the best as only 57% of the dependent variable was explained by the model. There are a lot of improvements that can be made by starting from this point. For example, alternatives to Linear Regression are Decision Tree Regressor, Random Forest Regressor, XGB Regressor or Extra Trees Regressor. Also, the differences can appear by the used techniques in cleaning the data and the criteria used to choose the variables which will be included in the model.\n",
    "\n",
    "Otherwise, the model showed the fact that if a person wants a house with many rooms should be prepared for the price to increase as the number of rooms increase. Also, if a client wants to buy a house in a safe area where the criminal rate is low, then it should expect to pay more money. On the other hand, the market should expect that the customers would pay less money for a house which has been build before 1940.\n",
    "\n",
    "Also, in order to show the way this model can be used, I assumed there are two customer with different expectations and they wish to find out a price for the house. As it was observed the model seems to be useful as the results of the prediction meet the expectation. Otherwise, this model can be changed and developed in order to be a better fit depending on the person interested in using it (real estate agent, customer)."
   ]
  }
 ],
 "metadata": {
  "kernelspec": {
   "display_name": "Python 3",
   "language": "python",
   "name": "python3"
  },
  "language_info": {
   "codemirror_mode": {
    "name": "ipython",
    "version": 3
   },
   "file_extension": ".py",
   "mimetype": "text/x-python",
   "name": "python",
   "nbconvert_exporter": "python",
   "pygments_lexer": "ipython3",
   "version": "3.8.3"
  },
  "toc": {
   "base_numbering": "",
   "nav_menu": {},
   "number_sections": true,
   "sideBar": true,
   "skip_h1_title": true,
   "title_cell": "Table of Contents",
   "title_sidebar": "Contents",
   "toc_cell": false,
   "toc_position": {
    "height": "calc(100% - 180px)",
    "left": "10px",
    "top": "150px",
    "width": "202px"
   },
   "toc_section_display": true,
   "toc_window_display": true
  }
 },
 "nbformat": 4,
 "nbformat_minor": 4
}
